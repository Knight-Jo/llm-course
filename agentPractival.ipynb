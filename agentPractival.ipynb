{
 "cells": [
  {
   "cell_type": "markdown",
   "id": "12967012",
   "metadata": {},
   "source": [
    "# 🧠 智能体实践教学：构建你的第一个智能体\n",
    "\n",
    "## 📘 教学目标\n",
    "本次Notebook将引导你：\n",
    "1. 了解什么是智能体（Agent）及其基本结构；\n",
    "2. 掌握使用 `langchain` 和 `openai` 构建一个具备基础能力的智能体；\n",
    "3. 亲手实现一个能对话、调用工具并具备记忆功能的智能体。"
   ]
  },
  {
   "cell_type": "markdown",
   "id": "5ed50631",
   "metadata": {},
   "source": [
    "## 🧩 Step 1：什么是智能体？\n",
    "\n",
    "我们先来了解一下基础概念。"
   ]
  },
  {
   "cell_type": "code",
   "execution_count": 1,
   "id": "cce52b90",
   "metadata": {},
   "outputs": [
    {
     "data": {
      "text/markdown": [
       "\n",
       "**智能体（Agent）是一个能够感知环境、做出判断并执行行动的实体。**\n",
       "在大模型系统中，它通常具备：\n",
       "- **语言模型（LLM）**：用于理解指令和生成回应；\n",
       "- **工具（Tools）**：用于执行搜索、计算、数据库访问等具体任务；\n",
       "- **记忆（Memory）**：存储上下文对话信息，支持多轮对话；\n",
       "- **决策逻辑**：决定当前应调用哪个工具或如何响应。\n"
      ],
      "text/plain": [
       "<IPython.core.display.Markdown object>"
      ]
     },
     "execution_count": 1,
     "metadata": {},
     "output_type": "execute_result"
    }
   ],
   "source": [
    "from IPython.display import Markdown\n",
    "\n",
    "Markdown('''\n",
    "**智能体（Agent）是一个能够感知环境、做出判断并执行行动的实体。**\n",
    "在大模型系统中，它通常具备：\n",
    "- **语言模型（LLM）**：用于理解指令和生成回应；\n",
    "- **工具（Tools）**：用于执行搜索、计算、数据库访问等具体任务；\n",
    "- **记忆（Memory）**：存储上下文对话信息，支持多轮对话；\n",
    "- **决策逻辑**：决定当前应调用哪个工具或如何响应。\n",
    "''')"
   ]
  },
  {
   "cell_type": "markdown",
   "id": "d3768a17",
   "metadata": {},
   "source": [
    "## 🧪 Step 2：环境配置（必做）\n",
    "\n",
    "运行以下代码，安装必要库并配置OpenAI的API Key："
   ]
  },
  {
   "cell_type": "code",
   "execution_count": 2,
   "id": "0f04cc50",
   "metadata": {},
   "outputs": [
    {
     "name": "stdout",
     "output_type": "stream",
     "text": [
      "Note: you may need to restart the kernel to use updated packages.\n"
     ]
    }
   ],
   "source": [
    "%pip install langchain openai faiss-cpu tiktoken langchain-community --quiet"
   ]
  },
  {
   "cell_type": "code",
   "execution_count": 3,
   "id": "bb222bf9",
   "metadata": {},
   "outputs": [
    {
     "name": "stderr",
     "output_type": "stream",
     "text": [
      "/tmp/ipykernel_273919/2825325141.py:12: LangChainDeprecationWarning: The class `ChatOpenAI` was deprecated in LangChain 0.0.10 and will be removed in 1.0. An updated version of the class exists in the :class:`~langchain-openai package and should be used instead. To use it run `pip install -U :class:`~langchain-openai` and import as `from :class:`~langchain_openai import ChatOpenAI``.\n",
      "  llm = ChatOpenAI(\n"
     ]
    }
   ],
   "source": [
    "from langchain.chat_models import ChatOpenAI\n",
    "\n",
    "# 请根据你的OpenAI账号填写以下信息\n",
    "OPENAI_API_KEY = \"sk-b506cb8b46e1464ba64d5de31143be45\"\n",
    "OPENAI_API_BASE = \"https://dashscope.aliyuncs.com/compatible-mode/v1\"  # 如果你使用的是代理或自定义服务商，可以修改此URL\n",
    "OPENAI_MODEL = \"qwen-plus\" \n",
    "\n",
    "import os\n",
    "os.environ[\"OPENAI_API_KEY\"] = OPENAI_API_KEY\n",
    "os.environ[\"OPENAI_API_BASE\"] = OPENAI_API_BASE\n",
    "\n",
    "llm = ChatOpenAI(\n",
    "    model=OPENAI_MODEL,\n",
    "    temperature=0.9,\n",
    "    openai_api_key=OPENAI_API_KEY,\n",
    "    openai_api_base=OPENAI_API_BASE\n",
    ")"
   ]
  },
  {
   "cell_type": "markdown",
   "id": "c86eb467",
   "metadata": {},
   "source": [
    "## 🧱 Step 3：构建你的第一个智能体\n",
    "\n",
    "### 🛠️ 第一步：定义工具（Tool）\n",
    "\n",
    "我们将实现一个加法器工具。"
   ]
  },
  {
   "cell_type": "code",
   "execution_count": 4,
   "id": "995bdca9-86e2-4e80-bd34-bb08b55a28fd",
   "metadata": {},
   "outputs": [],
   "source": [
    "from langchain.tools import tool\n",
    "\n",
    "@tool\n",
    "def add_numbers(input: str) -> str:\n",
    "    \"\"\"接收两个用逗号分隔的数字字符串，如 '3,4' 返回 '7'。支持容错与格式清洗。\"\"\"\n",
    "    try:\n",
    "        # 移除引号、换行、冒号等常见格式污染\n",
    "        input = input.strip().replace(\"'\", \"\").replace(\"\\\"\", \"\").replace(\"\\n\", \"\").replace(\"Observation:\", \"\")\n",
    "        parts = [x.strip() for x in input.split(',') if x.strip()]\n",
    "        if len(parts) != 2:\n",
    "            return \"输入格式错误：请提供两个用逗号分隔的数字，如 '3,4'\"\n",
    "        a, b = parts\n",
    "        return str(int(a) + int(b))\n",
    "    except Exception as e:\n",
    "        return f\"输入格式错误，请输入形如 '3,4' 的字符串：{str(e)}\""
   ]
  },
  {
   "cell_type": "markdown",
   "id": "05613734-a3b0-407d-b5cc-9373c3182fc9",
   "metadata": {},
   "source": [
    "## 阶乘工具！"
   ]
  },
  {
   "cell_type": "code",
   "execution_count": 5,
   "id": "7cb88679-b428-4eb4-a704-c8cd44299db5",
   "metadata": {},
   "outputs": [],
   "source": [
    "import re\n",
    "\n",
    "@tool\n",
    "def factorial_tool(input_str: str)-> str:\n",
    "    \"\"\"接收一个非负整数字符串返回其阶乘值，如输入 '5' 应返回 '120'\"\"\"\n",
    "    try:\n",
    "        cleaned = re.sub(r\"[^\\d]\", \"\", input_str.strip())\n",
    "        if not cleaned:\n",
    "            return \"错误：输入不能为空\"\n",
    "        num = int(cleaned)\n",
    "        if num < 0:\n",
    "            return \"错误：输入必须是非负整数\"\n",
    "\n",
    "        rst = 1\n",
    "        for i in range(1, num+1):\n",
    "            rst *= i\n",
    "        return str(rst)\n",
    "    except ValueError:\n",
    "        return \"错误：无效的整数格式\"\n",
    "    except Exception as e:\n",
    "        return f\"未知错误: {str(e)}\""
   ]
  },
  {
   "cell_type": "markdown",
   "id": "b9ec72e7",
   "metadata": {},
   "source": [
    "### 🤖 第二步：初始化Agent"
   ]
  },
  {
   "cell_type": "code",
   "execution_count": 6,
   "id": "505dbf47",
   "metadata": {},
   "outputs": [
    {
     "name": "stderr",
     "output_type": "stream",
     "text": [
      "/tmp/ipykernel_273919/4243128416.py:18: LangChainDeprecationWarning: LangChain agents will continue to be supported, but it is recommended for new use cases to be built with LangGraph. LangGraph offers a more flexible and full-featured framework for building agents, including support for tool-calling, persistence of state, and human-in-the-loop workflows. For details, refer to the `LangGraph documentation <https://langchain-ai.github.io/langgraph/>`_ as well as guides for `Migrating from AgentExecutor <https://python.langchain.com/docs/how_to/migrate_agent/>`_ and LangGraph's `Pre-built ReAct agent <https://langchain-ai.github.io/langgraph/how-tos/create-react-agent/>`_.\n",
      "  agent = initialize_agent(\n"
     ]
    }
   ],
   "source": [
    "from langchain.agents import Tool, initialize_agent\n",
    "from langchain.agents.agent_types import AgentType\n",
    "\n",
    "# 添加工具列表\n",
    "tools = [\n",
    "    Tool(\n",
    "        name=\"AddNumbers\",\n",
    "        func=add_numbers,\n",
    "        description=\"用于执行两个数字加法，例如输入 '3,4'\"\n",
    "    ),\n",
    "    Tool(\n",
    "        name=\"Factorial\",\n",
    "        func=factorial_tool,\n",
    "        description=\"计算非负整数的阶乘，自动提取输入中数字，如输入5,返回120\"\n",
    "    )\n",
    "]\n",
    "\n",
    "agent = initialize_agent(\n",
    "    tools=tools,\n",
    "    llm=llm,\n",
    "    agent=AgentType.ZERO_SHOT_REACT_DESCRIPTION,\n",
    "    verbose=True\n",
    ")"
   ]
  },
  {
   "cell_type": "markdown",
   "id": "57eaaff6",
   "metadata": {},
   "source": [
    "### 🧪 第三步：运行测试\n",
    "langchain中的agent遵循ReAct范式\n",
    "\n",
    "相关阅读：ReAct: Synergizing Reasoning and Acting in Language Models"
   ]
  },
  {
   "cell_type": "code",
   "execution_count": 7,
   "id": "a021f3cc",
   "metadata": {
    "scrolled": true
   },
   "outputs": [
    {
     "name": "stderr",
     "output_type": "stream",
     "text": [
      "/tmp/ipykernel_273919/339764922.py:1: LangChainDeprecationWarning: The method `Chain.run` was deprecated in langchain 0.1.0 and will be removed in 1.0. Use :meth:`~invoke` instead.\n",
      "  agent.run(\"请帮我计算3加7\")\n"
     ]
    },
    {
     "name": "stdout",
     "output_type": "stream",
     "text": [
      "\n",
      "\n",
      "\u001b[1m> Entering new AgentExecutor chain...\u001b[0m\n",
      "\u001b[32;1m\u001b[1;3m我需要使用AddNumbers工具来计算3加7。\n",
      "Action: AddNumbers\n",
      "Action Input: 3,7\u001b[0m\n",
      "Observation: \u001b[36;1m\u001b[1;3m10\u001b[0m\n",
      "Thought:\u001b[32;1m\u001b[1;3m我现在知道最终答案。\n",
      "Final Answer: 10\u001b[0m\n",
      "\n",
      "\u001b[1m> Finished chain.\u001b[0m\n"
     ]
    },
    {
     "data": {
      "text/plain": [
       "'10'"
      ]
     },
     "execution_count": 7,
     "metadata": {},
     "output_type": "execute_result"
    }
   ],
   "source": [
    "agent.run(\"请帮我计算3加7\")"
   ]
  },
  {
   "cell_type": "code",
   "execution_count": 8,
   "id": "ae4ac48c-d008-436f-a658-d94066c8cd11",
   "metadata": {},
   "outputs": [
    {
     "name": "stdout",
     "output_type": "stream",
     "text": [
      "\n",
      "\n",
      "\u001b[1m> Entering new AgentExecutor chain...\u001b[0m\n",
      "\u001b[32;1m\u001b[1;3m这是一个加法问题，我应该使用AddNumbers工具。\n",
      "Action: AddNumbers\n",
      "Action Input: 3,7\u001b[0m\n",
      "Observation: \u001b[36;1m\u001b[1;3m10\u001b[0m\n",
      "Thought:\u001b[32;1m\u001b[1;3m我现在知道最终答案了。\n",
      "Final Answer: 三和七的和是10。\u001b[0m\n",
      "\n",
      "\u001b[1m> Finished chain.\u001b[0m\n"
     ]
    },
    {
     "data": {
      "text/plain": [
       "'三和七的和是10。'"
      ]
     },
     "execution_count": 8,
     "metadata": {},
     "output_type": "execute_result"
    }
   ],
   "source": [
    "agent.run(\"请帮我计算三和七的和\")"
   ]
  },
  {
   "cell_type": "markdown",
   "id": "9283964a",
   "metadata": {},
   "source": [
    "📝 **问题思考**：你能修改输入内容让Agent报错吗？为什么会出错？"
   ]
  },
  {
   "cell_type": "markdown",
   "id": "4c02d0ac",
   "metadata": {},
   "source": [
    "🧠 **自主练习**：请你实现一个阶乘计算工具 `factorial_tool`，接收一个正整数字符串返回其阶乘值，如输入 '5' 应返回 '120'。要求：\n",
    "- 检查输入是否为非负整数\n",
    "- 对非法输入添加适当错误提示\n",
    "- 将其添加至 `tools` 列表"
   ]
  },
  {
   "cell_type": "markdown",
   "id": "cf490275-8e2f-4d81-ac17-23c028bb033a",
   "metadata": {},
   "source": [
    "## 测试阶乘"
   ]
  },
  {
   "cell_type": "code",
   "execution_count": 9,
   "id": "9407e6cb-67b0-4391-a5c3-5f8685dcc39f",
   "metadata": {},
   "outputs": [
    {
     "name": "stdout",
     "output_type": "stream",
     "text": [
      "\n",
      "\n",
      "\u001b[1m> Entering new AgentExecutor chain...\u001b[0m\n",
      "\u001b[32;1m\u001b[1;3m我需要计算5的阶乘。\n",
      "Action: Factorial\n",
      "Action Input: 5\u001b[0m\n",
      "Observation: \u001b[33;1m\u001b[1;3m120\u001b[0m\n",
      "Thought:\u001b[32;1m\u001b[1;3m我现在知道最终答案。  \n",
      "Final Answer: 5的阶乘是120。\u001b[0m\n",
      "\n",
      "\u001b[1m> Finished chain.\u001b[0m\n",
      "\n",
      "\n",
      "\u001b[1m> Entering new AgentExecutor chain...\u001b[0m\n",
      "\u001b[32;1m\u001b[1;3m我需要计算0的阶乘。\n",
      "Action: Factorial\n",
      "Action Input: 0\u001b[0m\n",
      "Observation: \u001b[33;1m\u001b[1;3m1\u001b[0m\n",
      "Thought:\u001b[32;1m\u001b[1;3m我现在知道最终答案。  \n",
      "Final Answer: 0的阶乘是1。\u001b[0m\n",
      "\n",
      "\u001b[1m> Finished chain.\u001b[0m\n"
     ]
    },
    {
     "data": {
      "text/plain": [
       "'0的阶乘是1。'"
      ]
     },
     "execution_count": 9,
     "metadata": {},
     "output_type": "execute_result"
    }
   ],
   "source": [
    "agent.run(\"5的阶乘是多少？\") \n",
    "agent.run(\"0的阶乘是多少？\") "
   ]
  },
  {
   "cell_type": "code",
   "execution_count": 10,
   "id": "9b1fe31d-450e-45af-b7b2-4466de6a4d1d",
   "metadata": {},
   "outputs": [
    {
     "name": "stdout",
     "output_type": "stream",
     "text": [
      "\n",
      "\n",
      "\u001b[1m> Entering new AgentExecutor chain...\u001b[0m\n",
      "\u001b[32;1m\u001b[1;3m首先需要计算3加5，然后使用得到的和计算阶乘。\n",
      "Action: AddNumbers\n",
      "Action Input: 3,5\u001b[0m\n",
      "Observation: \u001b[36;1m\u001b[1;3m8\u001b[0m\n",
      "Thought:\u001b[32;1m\u001b[1;3m现在我已经得到了3加5的结果为8，接下来需要计算8的阶乘。\n",
      "Action: Factorial\n",
      "Action Input: 8\u001b[0m\n",
      "Observation: \u001b[33;1m\u001b[1;3m40320\u001b[0m\n",
      "Thought:\u001b[32;1m\u001b[1;3mI now know the final answer  \n",
      "Final Answer: 40320\u001b[0m\n",
      "\n",
      "\u001b[1m> Finished chain.\u001b[0m\n"
     ]
    },
    {
     "data": {
      "text/plain": [
       "'40320'"
      ]
     },
     "execution_count": 10,
     "metadata": {},
     "output_type": "execute_result"
    }
   ],
   "source": [
    "agent.run(\"请先计算3加5，再求结果的阶乘\")"
   ]
  },
  {
   "cell_type": "markdown",
   "id": "ffa4d8d8",
   "metadata": {},
   "source": [
    "## 🔁 Step 4：丰富你的Agent记忆能力"
   ]
  },
  {
   "cell_type": "code",
   "execution_count": 11,
   "id": "e38a124c",
   "metadata": {},
   "outputs": [
    {
     "name": "stderr",
     "output_type": "stream",
     "text": [
      "/tmp/ipykernel_273919/732010614.py:3: LangChainDeprecationWarning: Please see the migration guide at: https://python.langchain.com/docs/versions/migrating_memory/\n",
      "  memory = ConversationBufferMemory(memory_key=\"chat_history\")\n"
     ]
    }
   ],
   "source": [
    "from langchain.memory import ConversationBufferMemory\n",
    "\n",
    "memory = ConversationBufferMemory(memory_key=\"chat_history\")\n",
    "\n",
    "agent_with_memory = initialize_agent(\n",
    "    tools=tools,\n",
    "    llm=llm,\n",
    "    agent=AgentType.CONVERSATIONAL_REACT_DESCRIPTION,\n",
    "    memory=memory,\n",
    "    verbose=True\n",
    ")"
   ]
  },
  {
   "cell_type": "code",
   "execution_count": 12,
   "id": "66c143d0",
   "metadata": {},
   "outputs": [
    {
     "name": "stdout",
     "output_type": "stream",
     "text": [
      "\n",
      "\n",
      "\u001b[1m> Entering new AgentExecutor chain...\u001b[0m\n",
      "\u001b[32;1m\u001b[1;3mThought: Do I need to use a tool? Yes  \n",
      "Action: AddNumbers  \n",
      "Action Input: 12,47  \u001b[0m\n",
      "Observation: \u001b[36;1m\u001b[1;3m59\u001b[0m\n",
      "Thought:\u001b[32;1m\u001b[1;3mDo I need to use a tool? No  \n",
      "AI: 12加上47的结果是59。\u001b[0m\n",
      "\n",
      "\u001b[1m> Finished chain.\u001b[0m\n"
     ]
    },
    {
     "data": {
      "text/plain": [
       "'12加上47的结果是59。'"
      ]
     },
     "execution_count": 12,
     "metadata": {},
     "output_type": "execute_result"
    }
   ],
   "source": [
    "agent_with_memory.run(\"请你帮我计算12+47等于多少\")"
   ]
  },
  {
   "cell_type": "code",
   "execution_count": 13,
   "id": "90e130ef",
   "metadata": {},
   "outputs": [
    {
     "name": "stdout",
     "output_type": "stream",
     "text": [
      "\n",
      "\n",
      "\u001b[1m> Entering new AgentExecutor chain...\u001b[0m\n",
      "\u001b[32;1m\u001b[1;3mThought: Do I need to use a tool? No  \n",
      "AI: 您之前的计算结果是59。这是之前计算12加47得到的答案。\u001b[0m\n",
      "\n",
      "\u001b[1m> Finished chain.\u001b[0m\n"
     ]
    },
    {
     "data": {
      "text/plain": [
       "'您之前的计算结果是59。这是之前计算12加47得到的答案。'"
      ]
     },
     "execution_count": 13,
     "metadata": {},
     "output_type": "execute_result"
    }
   ],
   "source": [
    "agent_with_memory.run(\"我刚才的计算结果是多少？\")"
   ]
  },
  {
   "cell_type": "code",
   "execution_count": 14,
   "id": "5fbcc6c0",
   "metadata": {},
   "outputs": [
    {
     "name": "stdout",
     "output_type": "stream",
     "text": [
      "\n",
      "\n",
      "\u001b[1m> Entering new AgentExecutor chain...\u001b[0m\n",
      "\u001b[32;1m\u001b[1;3mThought: Do I need to use a tool? Yes  \n",
      "Action: AddNumbers  \n",
      "Action Input: 59,23  \u001b[0m\n",
      "Observation: \u001b[36;1m\u001b[1;3m82\u001b[0m\n",
      "Thought:\u001b[32;1m\u001b[1;3mDo I need to use a tool? No  \n",
      "AI: 在之前计算结果59的基础上再加23，最终结果是82。\u001b[0m\n",
      "\n",
      "\u001b[1m> Finished chain.\u001b[0m\n"
     ]
    },
    {
     "data": {
      "text/plain": [
       "'在之前计算结果59的基础上再加23，最终结果是82。'"
      ]
     },
     "execution_count": 14,
     "metadata": {},
     "output_type": "execute_result"
    }
   ],
   "source": [
    "agent_with_memory.run(\"在刚才的基础上再加23，结果是多少？\")"
   ]
  },
  {
   "cell_type": "code",
   "execution_count": 15,
   "id": "0ab7b5df",
   "metadata": {},
   "outputs": [
    {
     "name": "stdout",
     "output_type": "stream",
     "text": [
      "\n",
      "--- 当前记忆内容 ---\n",
      "HUMAN: 请你帮我计算12+47等于多少\n",
      "AI: 12加上47的结果是59。\n",
      "HUMAN: 我刚才的计算结果是多少？\n",
      "AI: 您之前的计算结果是59。这是之前计算12加47得到的答案。\n",
      "HUMAN: 在刚才的基础上再加23，结果是多少？\n",
      "AI: 在之前计算结果59的基础上再加23，最终结果是82。\n"
     ]
    }
   ],
   "source": [
    "print(\"\\n--- 当前记忆内容 ---\")\n",
    "for msg in memory.chat_memory.messages:\n",
    "    print(f\"{msg.type.upper()}: {msg.content}\")"
   ]
  },
  {
   "cell_type": "markdown",
   "id": "3608f2f3",
   "metadata": {},
   "source": [
    "### 使用摘要记忆\n",
    "摘要记忆通过将对话历史生成摘要，适合长对话中保持语义一致性而不被信息爆炸干扰。"
   ]
  },
  {
   "cell_type": "code",
   "execution_count": 16,
   "id": "65bee224",
   "metadata": {},
   "outputs": [
    {
     "name": "stderr",
     "output_type": "stream",
     "text": [
      "/tmp/ipykernel_273919/902357341.py:3: LangChainDeprecationWarning: Please see the migration guide at: https://python.langchain.com/docs/versions/migrating_memory/\n",
      "  summary_memory = ConversationSummaryMemory(llm=llm, memory_key=\"chat_history\")\n"
     ]
    }
   ],
   "source": [
    "from langchain.memory import ConversationSummaryMemory\n",
    "\n",
    "summary_memory = ConversationSummaryMemory(llm=llm, memory_key=\"chat_history\")\n",
    "\n",
    "agent_summary = initialize_agent(\n",
    "    tools=tools,\n",
    "    llm=llm,\n",
    "    memory=summary_memory,\n",
    "    agent=AgentType.CONVERSATIONAL_REACT_DESCRIPTION,\n",
    "    verbose=True\n",
    ")"
   ]
  },
  {
   "cell_type": "markdown",
   "id": "268b051d",
   "metadata": {},
   "source": [
    "**练习**：试试连续输入三轮关于旅游计划的问题，观察模型是否能总结用户的目标。"
   ]
  },
  {
   "cell_type": "code",
   "execution_count": 17,
   "id": "1662f16e-70be-4984-98b9-bad13f642752",
   "metadata": {},
   "outputs": [
    {
     "name": "stdout",
     "output_type": "stream",
     "text": [
      "\n",
      "\n",
      "\u001b[1m> Entering new AgentExecutor chain...\u001b[0m\n",
      "\u001b[32;1m\u001b[1;3mThought: Do I need to use a tool? No  \n",
      "AI: 春天是去北京旅游的绝佳时节，气候宜人，鲜花盛开。以下是一些建议供你参考：\n",
      "\n",
      "1. **赏花地点**：春天的北京到处都是花开的景象。你可以去玉渊潭公园看樱花，或者去北京植物园观赏桃花和其他花卉。\n",
      "   \n",
      "2. **历史景点**：不要错过参观故宫、天安门广场和长城（如八达岭或慕田峪段）。这些地方不仅历史悠久，而且在春天的时候周围环境非常美丽。\n",
      "\n",
      "3. **文化体验**：可以去看看京剧表演，体验老北京的文化韵味。另外，798艺术区也是一个不错的选择，可以感受现代与传统交融的艺术氛围。\n",
      "\n",
      "4. **胡同漫步**：走进南锣鼓巷或其他保留完好的胡同区域，体会老北京人的生活方式。\n",
      "\n",
      "5. **饮食推荐**：尝试一些地道的北京美食，比如烤鸭、炸酱面等。\n",
      "\n",
      "希望这些建议对你有所帮助！如果你有更多具体需求或问题，随时告诉我。\u001b[0m\n",
      "\n",
      "\u001b[1m> Finished chain.\u001b[0m\n",
      "Response 1: 春天是去北京旅游的绝佳时节，气候宜人，鲜花盛开。以下是一些建议供你参考：\n",
      "\n",
      "1. **赏花地点**：春天的北京到处都是花开的景象。你可以去玉渊潭公园看樱花，或者去北京植物园观赏桃花和其他花卉。\n",
      "   \n",
      "2. **历史景点**：不要错过参观故宫、天安门广场和长城（如八达岭或慕田峪段）。这些地方不仅历史悠久，而且在春天的时候周围环境非常美丽。\n",
      "\n",
      "3. **文化体验**：可以去看看京剧表演，体验老北京的文化韵味。另外，798艺术区也是一个不错的选择，可以感受现代与传统交融的艺术氛围。\n",
      "\n",
      "4. **胡同漫步**：走进南锣鼓巷或其他保留完好的胡同区域，体会老北京人的生活方式。\n",
      "\n",
      "5. **饮食推荐**：尝试一些地道的北京美食，比如烤鸭、炸酱面等。\n",
      "\n",
      "希望这些建议对你有所帮助！如果你有更多具体需求或问题，随时告诉我。\n",
      "\n",
      "\n",
      "\n",
      "\u001b[1m> Entering new AgentExecutor chain...\u001b[0m\n",
      "\u001b[32;1m\u001b[1;3mThought: Do I need to use a tool? No  \n",
      "AI: 在北京旅行时，如果预算有限，您可以采取以下几种节省开支的方法：  \n",
      "\n",
      "1. **免费景点**：多选择一些无需门票的景点，例如天安门广场、奥林匹克公园、后海等，这些地方同样能让您感受到北京的文化和魅力。  \n",
      "2. **公园游览**：北京有很多免费或低价的公园，如玉渊潭公园、紫竹院公园和陶然亭公园，您可以在这里欣赏自然风光。  \n",
      "3. **公共交通**：使用地铁和公交车代替出租车或网约车，这样可以大大降低交通费用。北京的地铁系统非常发达，覆盖了大部分旅游景点。  \n",
      "4. **青年旅舍**：选择价格较为实惠的青年旅舍或民宿，而不是星级酒店。通过预订平台（如Airbnb）寻找性价比高的住宿。  \n",
      "5. **本地餐饮**：尝试街边小吃或连锁餐馆（如沙县小吃、兰州拉面），既能品尝地道美食，又能节省用餐费用。避免在景区内的餐厅用餐，因为价格通常较高。  \n",
      "6. **免费文化活动**：关注社区公告或线上平台，了解是否有免费的演出、展览或讲座。例如，798艺术区的部分画廊是免费开放的。  \n",
      "7. **淡季折扣**：提前购买景点优惠票或团购套餐，部分景点可能会提供折扣。  \n",
      "\n",
      "希望这些建议能帮助您更好地规划行程！如果您还有其他问题，请随时告诉我。\u001b[0m\n",
      "\n",
      "\u001b[1m> Finished chain.\u001b[0m\n",
      "Response 2: 在北京旅行时，如果预算有限，您可以采取以下几种节省开支的方法：  \n",
      "\n",
      "1. **免费景点**：多选择一些无需门票的景点，例如天安门广场、奥林匹克公园、后海等，这些地方同样能让您感受到北京的文化和魅力。  \n",
      "2. **公园游览**：北京有很多免费或低价的公园，如玉渊潭公园、紫竹院公园和陶然亭公园，您可以在这里欣赏自然风光。  \n",
      "3. **公共交通**：使用地铁和公交车代替出租车或网约车，这样可以大大降低交通费用。北京的地铁系统非常发达，覆盖了大部分旅游景点。  \n",
      "4. **青年旅舍**：选择价格较为实惠的青年旅舍或民宿，而不是星级酒店。通过预订平台（如Airbnb）寻找性价比高的住宿。  \n",
      "5. **本地餐饮**：尝试街边小吃或连锁餐馆（如沙县小吃、兰州拉面），既能品尝地道美食，又能节省用餐费用。避免在景区内的餐厅用餐，因为价格通常较高。  \n",
      "6. **免费文化活动**：关注社区公告或线上平台，了解是否有免费的演出、展览或讲座。例如，798艺术区的部分画廊是免费开放的。  \n",
      "7. **淡季折扣**：提前购买景点优惠票或团购套餐，部分景点可能会提供折扣。  \n",
      "\n",
      "希望这些建议能帮助您更好地规划行程！如果您还有其他问题，请随时告诉我。\n",
      "\n",
      "\n",
      "\n",
      "\u001b[1m> Entering new AgentExecutor chain...\u001b[0m\n",
      "\u001b[32;1m\u001b[1;3mThought: Do I need to use a tool? No  \n",
      "AI: 如果你想参观历史名胜古迹，北京有许多非常值得游览的地方。以下是一些推荐：  \n",
      "\n",
      "1. **故宫**：世界上最大的宫殿建筑群，可以深入了解明清两代的皇家文化。  \n",
      "2. **天安门广场**：中国的心脏地带，周围有人民英雄纪念碑、国家博物馆和毛主席纪念堂等重要地标。  \n",
      "3. **长城（八达岭、慕田峪、司马台等段）**：作为世界文化遗产，长城是中华民族的象征之一，适合拍照和徒步。  \n",
      "4. **颐和园**：清朝皇家园林，融合了自然美景与人文景观，非常适合散步和放松。  \n",
      "5. **圆明园遗址公园**：了解清朝晚期的历史，感受曾经辉煌的皇家园林遗迹。  \n",
      "6. **孔庙和国子监**：体验中国古代教育制度，欣赏精美的建筑雕刻。  \n",
      "7. **雍和宫**：北京最大的藏传佛教寺庙，了解宗教文化和传统仪式。  \n",
      "\n",
      "这些地方大多需要门票，但价格相对合理。建议提前在网上查询开放时间和票价，并考虑购买联票以节省开支。如果你对某一个景点特别感兴趣，可以告诉我，我可以为你提供更详细的建议！\u001b[0m\n",
      "\n",
      "\u001b[1m> Finished chain.\u001b[0m\n",
      "Response 3: 如果你想参观历史名胜古迹，北京有许多非常值得游览的地方。以下是一些推荐：  \n",
      "\n",
      "1. **故宫**：世界上最大的宫殿建筑群，可以深入了解明清两代的皇家文化。  \n",
      "2. **天安门广场**：中国的心脏地带，周围有人民英雄纪念碑、国家博物馆和毛主席纪念堂等重要地标。  \n",
      "3. **长城（八达岭、慕田峪、司马台等段）**：作为世界文化遗产，长城是中华民族的象征之一，适合拍照和徒步。  \n",
      "4. **颐和园**：清朝皇家园林，融合了自然美景与人文景观，非常适合散步和放松。  \n",
      "5. **圆明园遗址公园**：了解清朝晚期的历史，感受曾经辉煌的皇家园林遗迹。  \n",
      "6. **孔庙和国子监**：体验中国古代教育制度，欣赏精美的建筑雕刻。  \n",
      "7. **雍和宫**：北京最大的藏传佛教寺庙，了解宗教文化和传统仪式。  \n",
      "\n",
      "这些地方大多需要门票，但价格相对合理。建议提前在网上查询开放时间和票价，并考虑购买联票以节省开支。如果你对某一个景点特别感兴趣，可以告诉我，我可以为你提供更详细的建议！\n",
      "\n",
      "当前记忆摘要：\n",
      "人类询问关于春天去北京旅游的建议。AI回答说春天是去北京旅游的好时节，并提供了几个建议：一是赏花地点，如玉渊潭公园的樱花和北京植物园的桃花；二是历史景点，如故宫、天安门广场和长城；三是文化体验，包括京剧表演和798艺术区；四是胡同漫步，感受老北京生活方式；五是饮食推荐，尝试北京烤鸭和炸酱面等美食。随后，人类提到预算有限，询问节省开支的方法。AI提供了以下建议：选择免费或低价景点，如天安门广场和玉渊潭公园；使用公共交通工具以降低交通费用；选择经济型住宿，如青年旅舍或民宿；尝试街边小吃或本地餐馆以节省用餐费用；关注免费文化活动；以及提前购买优惠票或团购套餐。最后，人类进一步询问适合参观的历史名胜古迹，AI推荐了故宫、天安门广场、长城、颐和园、圆明园遗址公园、孔庙和国子监、雍和宫等地，并提醒可提前查询开放时间和票价，考虑购买联票以节省开支。如果人类对某个景点特别感兴趣，AI表示可以提供更详细的建议。\n"
     ]
    }
   ],
   "source": [
    "response1 = agent_summary.run(\"我想春天去北京旅游，有什么建议吗？\")\n",
    "print(f\"Response 1: {response1}\\n\")\n",
    "\n",
    "response2 = agent_summary.run(\"我的预算比较有限，有什么节省开支的方法？\")\n",
    "print(f\"Response 2: {response2}\\n\")\n",
    "\n",
    "response3 = agent_summary.run(\"我还想去历史名胜古迹，哪里合适？\")\n",
    "print(f\"Response 3: {response3}\\n\")\n",
    "\n",
    "# 查看记忆摘要\n",
    "print(\"当前记忆摘要：\")\n",
    "print(summary_memory.load_memory_variables({})[\"chat_history\"])"
   ]
  },
  {
   "cell_type": "markdown",
   "id": "84a62c69",
   "metadata": {},
   "source": [
    "## 🎯 自主练习\n",
    "请完成以下任务，提交代码与说明：\n",
    "\n",
    "1. **集成搜索功能**，使用 `DuckDuckGoSearchRun` 工具并问“OpenAI是谁？”；\n",
    "2. **尝试更换Agent类型**为 `AgentType.CHAT_CONVERSATIONAL_REACT_DESCRIPTION` 并观察变化；\n",
    "\n",
    "提示：使用如下代码添加搜索工具：\n",
    "```python\n",
    "!pip install -U duckduckgo-search\n",
    "from langchain.tools import DuckDuckGoSearchRun\n",
    "search = DuckDuckGoSearchRun()\n",
    "tools.append(Tool(name=\"Search\", func=search.run, description=\"执行网页搜索\"))\n",
    "```\n"
   ]
  },
  {
   "cell_type": "code",
   "execution_count": 18,
   "id": "aafbd1ec-56c3-47fe-a2cf-99a8cbc7a59e",
   "metadata": {},
   "outputs": [
    {
     "name": "stdout",
     "output_type": "stream",
     "text": [
      "Requirement already satisfied: duckduckgo-search in /home/guandewei/.conda/envs/llm-course/lib/python3.10/site-packages (8.0.1)\n",
      "Requirement already satisfied: click>=8.1.8 in /home/guandewei/.conda/envs/llm-course/lib/python3.10/site-packages (from duckduckgo-search) (8.1.8)\n",
      "Requirement already satisfied: primp>=0.15.0 in /home/guandewei/.conda/envs/llm-course/lib/python3.10/site-packages (from duckduckgo-search) (0.15.0)\n",
      "Requirement already satisfied: lxml>=5.3.0 in /home/guandewei/.conda/envs/llm-course/lib/python3.10/site-packages (from duckduckgo-search) (5.4.0)\n"
     ]
    }
   ],
   "source": [
    "!pip install -U duckduckgo-search"
   ]
  },
  {
   "cell_type": "code",
   "execution_count": 19,
   "id": "923ba013-0a2d-42f0-891e-91d6c9774905",
   "metadata": {},
   "outputs": [],
   "source": [
    "from langchain.tools import DuckDuckGoSearchRun\n",
    "search = DuckDuckGoSearchRun()\n",
    "tools = [\n",
    "    Tool(\n",
    "        name=\"Search\",\n",
    "        func=search.run,\n",
    "        description=\"执行网页搜索,用于回答实时性问题\"\n",
    "    )\n",
    "]"
   ]
  },
  {
   "cell_type": "code",
   "execution_count": 20,
   "id": "8160442d-4655-4bdf-9222-5d46c45ef6ec",
   "metadata": {},
   "outputs": [],
   "source": [
    "agent = initialize_agent(\n",
    "    tools=tools,\n",
    "    llm=llm,\n",
    "    agent=AgentType.ZERO_SHOT_REACT_DESCRIPTION,\n",
    "\n",
    "    verbose=True\n",
    ")"
   ]
  },
  {
   "cell_type": "code",
   "execution_count": 21,
   "id": "b12f93aa-d131-4123-8301-1ffacb1b0cf8",
   "metadata": {},
   "outputs": [
    {
     "name": "stdout",
     "output_type": "stream",
     "text": [
      "\n",
      "\n",
      "\u001b[1m> Entering new AgentExecutor chain...\u001b[0m\n",
      "\u001b[32;1m\u001b[1;3m 我应该使用搜索工具来查找有关OpenAI的实时信息。\n",
      "Action: Search\n",
      "Action Input: OpenAI是谁？\u001b[0m\n",
      "Observation: \u001b[36;1m\u001b[1;3mChatGPT的爆炸性成功是OpenAI发展史上最戏剧性的篇章，而这一改变世界的产品，在Sam Altman的描述中，\"确实是个意外\"。 这个意外不仅彻底改变了OpenAI ... OpenAI的研究成果包括了众多重要的论文和突破性的技术，其中最知名的是GPT系列（Generative Pre-trained Transformer）模型，包括GPT-3。 为了确保 人工智能 的利益能够与整个人类社会的利益保持一致， OpenAI 的使命是确保 人工智能 对于所有人都是有益的， 并 且能够 ... 那么，谁是这个突破性组织背后的推动者？这篇文章将回顾OpenAI 的历史，并介绍那些在其创建过程中发挥重要作用的关键人物。 >>点击领取$100现金大礼! 谁是OpenAI 的创始人？ OpenAI 并没有单一的创始人，而是由多位科技和人工智能领域的重要人物共同成立的。 十年前，OpenAI 诞生在一张厨房餐桌边，创始人们当时想的不是怎么盈利，而是如何让 AI 为人类服务。 十年后，这家已估值千亿、拥有 ChatGPT 的技术巨头，依旧在追问那个最初的问题：AGI 应该属于谁，又该为谁所用？ 因首先发表人工智慧语言大模型而名噪一时的OpenAI CEO山姆．奥特曼（Sam Altman）出席美国国会听证会时表示，美国的AI语言大模型是世界上最先进的 ...\u001b[0m\n",
      "Thought:\u001b[32;1m\u001b[1;3m我找到了关于OpenAI的相关信息。\n",
      "Final Answer: OpenAI是一家领先的人工智能研究实验室，由多位科技和人工智能领域的重要人物共同创立。它并非由单一创始人创建，而是由一群希望利用AI为人类服务的人士共同成立。OpenAI的研究成果包括众多重要的论文和突破性技术，其中最知名的是GPT系列（Generative Pre-trained Transformer）模型，包括GPT-3。OpenAI的使命是确保人工智能对所有人都是有益的，并且能够与整个人类社会的利益保持一致。Sam Altman是OpenAI的现任CEO，他在推动公司发展方面发挥了重要作用。\u001b[0m\n",
      "\n",
      "\u001b[1m> Finished chain.\u001b[0m\n",
      "[回答] OpenAI是一家领先的人工智能研究实验室，由多位科技和人工智能领域的重要人物共同创立。它并非由单一创始人创建，而是由一群希望利用AI为人类服务的人士共同成立。OpenAI的研究成果包括众多重要的论文和突破性技术，其中最知名的是GPT系列（Generative Pre-trained Transformer）模型，包括GPT-3。OpenAI的使命是确保人工智能对所有人都是有益的，并且能够与整个人类社会的利益保持一致。Sam Altman是OpenAI的现任CEO，他在推动公司发展方面发挥了重要作用。\n",
      "\n"
     ]
    }
   ],
   "source": [
    "response = agent.run(\"OpenAI是谁？\")\n",
    "print(f\"[回答] {response}\\n\")"
   ]
  },
  {
   "cell_type": "code",
   "execution_count": 22,
   "id": "65914b6c-07c8-4512-bd49-9d104ff15ca7",
   "metadata": {},
   "outputs": [
    {
     "name": "stdout",
     "output_type": "stream",
     "text": [
      "\n",
      "\n",
      "\u001b[1m> Entering new AgentExecutor chain...\u001b[0m\n",
      "\u001b[32;1m\u001b[1;3m```json\n",
      "{\n",
      "    \"action\": \"Search\",\n",
      "    \"action_input\": \"OpenAI 是谁\"\n",
      "}\n",
      "```\u001b[0m\n",
      "Observation: \u001b[36;1m\u001b[1;3m十年前，OpenAI 诞生在一张厨房餐桌边，创始人们当时想的不是怎么盈利，而是如何让 AI 为人类服务。 十年后，这家已估值千亿、拥有 ChatGPT 的技术巨头，依旧在追问那个最初的问题：AGI 应该属于谁，又该为谁所用？ OpenAI的研究成果包括了众多重要的论文和突破性的技术，其中最知名的是GPT系列（Generative Pre-trained Transformer）模型，包括GPT-3。 为了确保 人工智能 的利益能够与整个人类社会的利益保持一致， OpenAI 的使命是确保 人工智能 对于所有人都是有益的， 并 且能够 ... 那么，谁是这个突破性组织背后的推动者？这篇文章将回顾OpenAI 的历史，并介绍那些在其创建过程中发挥重要作用的关键人物。 >>点击领取$100现金大礼! 谁是OpenAI 的创始人？ OpenAI 并没有单一的创始人，而是由多位科技和人工智能领域的重要人物共同成立的。 ChatGPT的爆炸性成功是OpenAI发展史上最戏剧性的篇章，而这一改变世界的产品，在Sam Altman的描述中，\"确实是个意外\"。 这个意外不仅彻底改变了OpenAI ... 谁有权制定 AI 发展的方向？是少数掌握核心技术的公司，还是更广泛的公众和社会？ 通过保留非营利母体的控制权，OpenAI 试图在这两者之间找到 ...\u001b[0m\n",
      "Thought:\u001b[32;1m\u001b[1;3m```json\n",
      "{\n",
      "    \"action\": \"Final Answer\",\n",
      "    \"action_input\": \"OpenAI是一家由多位科技和人工智能领域的重要人物共同创立的组织，其目标是让AI为人类服务。为了确保人工智能对所有人有益，OpenAI致力于研究和开发安全的人工智能技术。他们的研究成果包括著名的GPT系列模型。关键人物包括Sam Altman等，他们在创建过程中发挥了重要作用。\"\n",
      "}\n",
      "```\u001b[0m\n",
      "\n",
      "\u001b[1m> Finished chain.\u001b[0m\n",
      "[回答] OpenAI是一家由多位科技和人工智能领域的重要人物共同创立的组织，其目标是让AI为人类服务。为了确保人工智能对所有人有益，OpenAI致力于研究和开发安全的人工智能技术。他们的研究成果包括著名的GPT系列模型。关键人物包括Sam Altman等，他们在创建过程中发挥了重要作用。\n",
      "\n"
     ]
    }
   ],
   "source": [
    "memory = ConversationSummaryMemory(\n",
    "    llm=llm,\n",
    "    memory_key=\"chat_history\",\n",
    "    return_messages=True\n",
    ")\n",
    "\n",
    "agent = initialize_agent(\n",
    "    tools,\n",
    "    llm,\n",
    "    agent=AgentType.CHAT_CONVERSATIONAL_REACT_DESCRIPTION,\n",
    "    memory=memory,\n",
    "    verbose=True\n",
    ")\n",
    "response = agent.run(\"OpenAI是谁？\")\n",
    "print(f\"[回答] {response}\\n\")"
   ]
  },
  {
   "cell_type": "markdown",
   "id": "3d8e1f8f",
   "metadata": {},
   "source": [
    "## 📌思考\n",
    "- 如果要让智能体拥有“规划一周学习任务”的能力，你会添加哪些工具和模块？"
   ]
  },
  {
   "cell_type": "markdown",
   "id": "c828acb2-780c-48d6-b0d6-581b30b3dc40",
   "metadata": {},
   "source": [
    "- 搜索引擎工具，获取学习材料。\n",
    "- 文档处理工具，根据材料生成模板和笔记。\n",
    "- 日程管理工具，创建和管理日程安排。\n",
    "- 任务管理工具，创建任务清单，分解每周的学习目标为每日目标。\n",
    "- 提醒通知，发送提醒通知用户按时完成任务"
   ]
  },
  {
   "cell_type": "code",
   "execution_count": null,
   "id": "5702732c-0b89-4dd3-9228-fde9da2de5fa",
   "metadata": {},
   "outputs": [],
   "source": []
  }
 ],
 "metadata": {
  "kernelspec": {
   "display_name": "Python 3 (ipykernel)",
   "language": "python",
   "name": "python3"
  },
  "language_info": {
   "codemirror_mode": {
    "name": "ipython",
    "version": 3
   },
   "file_extension": ".py",
   "mimetype": "text/x-python",
   "name": "python",
   "nbconvert_exporter": "python",
   "pygments_lexer": "ipython3",
   "version": "3.10.17"
  }
 },
 "nbformat": 4,
 "nbformat_minor": 5
}
