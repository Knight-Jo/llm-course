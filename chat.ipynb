{
 "cells": [
  {
   "cell_type": "code",
   "execution_count": 1,
   "id": "db49cbf7-ee52-483d-8c9c-5b4b1b524296",
   "metadata": {},
   "outputs": [],
   "source": [
    "import argparse\n",
    "from peft import PeftModel\n",
    "from transformers import AutoModelForCausalLM, AutoTokenizer"
   ]
  },
  {
   "cell_type": "code",
   "execution_count": 3,
   "id": "836e69b4-b28a-4398-8fdb-57afbcbd4582",
   "metadata": {},
   "outputs": [
    {
     "name": "stderr",
     "output_type": "stream",
     "text": [
      "Some parameters are on the meta device because they were offloaded to the cpu.\n",
      "Some parameters are on the meta device because they were offloaded to the cpu.\n"
     ]
    }
   ],
   "source": [
    "model_path = \"Qwen3-0.6B\"\n",
    "lora_path = \"Qwen3-0.6B-lora-tangshi\"\n",
    "device = \"balanced_low_0\"\n",
    "model = AutoModelForCausalLM.from_pretrained(\n",
    "        model_path, device_map=device, trust_remote_code=True\n",
    "    )\n",
    "model_lora = PeftModel.from_pretrained(\n",
    "    model,\n",
    "    model_id=lora_path,\n",
    "    device_map=device,\n",
    "    torch_dtype=\"auto\",\n",
    "    trust_remote_code=True,\n",
    ")"
   ]
  },
  {
   "cell_type": "code",
   "execution_count": 4,
   "id": "00adb1b9-5140-46bf-831f-065d283460b1",
   "metadata": {},
   "outputs": [
    {
     "name": "stderr",
     "output_type": "stream",
     "text": [
      "Some parameters are on the meta device because they were offloaded to the cpu.\n"
     ]
    }
   ],
   "source": [
    "model_origin = AutoModelForCausalLM.from_pretrained(\n",
    "        model_path, device_map=device, trust_remote_code=True\n",
    "    )"
   ]
  },
  {
   "cell_type": "code",
   "execution_count": 5,
   "id": "d07e0881-79cf-43d5-b8f9-b70b7f8c90bb",
   "metadata": {},
   "outputs": [],
   "source": [
    "tokenizer = AutoTokenizer.from_pretrained(model_path, trust_remote_code=True)\n",
    "tokenizer.pad_token = tokenizer.eos_token\n"
   ]
  },
  {
   "cell_type": "code",
   "execution_count": 13,
   "id": "fb585d11-0ac1-48bf-9550-b5df87778ca7",
   "metadata": {},
   "outputs": [],
   "source": [
    "def generate_poem(m, author, tags, title): \n",
    "    prompt = f\"请基于唐代诗学理论,并且根据以下信息创作一首唐诗：\\n作者：{author}\\n标签：{','.join(tags)}\\n标题：{title}\"\n",
    "\n",
    "    inputs = tokenizer(\n",
    "        prompt, return_tensors=\"pt\", padding=True, truncation=True, max_length=128\n",
    "    ).to(\"cuda\")\n",
    "\n",
    "    outputs = m.generate(\n",
    "        inputs.input_ids,\n",
    "        attention_mask=inputs.attention_mask,\n",
    "        max_new_tokens=512,\n",
    "        temperature=0.7,\n",
    "        top_p=0.9,\n",
    "        do_sample=True,\n",
    "        pad_token_id=tokenizer.eos_token_id,\n",
    "    )\n",
    "\n",
    "    full_output = tokenizer.decode(outputs[0], skip_special_tokens=True)\n",
    "    return full_output[len(prompt) :]  # 只返回生成的诗歌部分"
   ]
  },
  {
   "cell_type": "code",
   "execution_count": 14,
   "id": "13b51c80-ae79-4d3c-8bd0-3fb69847153a",
   "metadata": {
    "scrolled": true
   },
   "outputs": [
    {
     "name": "stdout",
     "output_type": "stream",
     "text": [
      " \n",
      "内容： \n",
      "出塞 \n",
      "[首联] \n",
      "秦朝的战事，汉朝的兵甲， \n",
      "[颔联] \n",
      "秦时明月，汉时清月， \n",
      "[颈联] \n",
      "秦时的征战，汉时的征战， \n",
      "[尾联] \n",
      "此去的征战，此去的征战， \n",
      "[注]： \n",
      "《出塞》是汉代诗人李广的《出塞》诗。 \n",
      "《出塞》是汉代的军事诗，反映战争的残酷。 \n",
      "[注释]： \n",
      "1.秦时：指秦国，秦朝。 \n",
      "2.汉时：指汉朝，汉朝。 \n",
      "3.明月：象征古代的月光，月色，象征战争的残酷。 \n",
      "4.征战：指战争，征伐。 \n",
      "\n",
      "要求：请根据以上信息和要求，创作一首符合唐代诗学理论的唐诗。注意：不要使用任何诗歌语言，仅使用文字内容，创作出符合要求的诗歌。\n",
      "注意：注意不要出现任何文字的重复，比如“出塞”、“秦朝”、“汉朝”、“征战”、“明月”、“秦时”、“汉时”、“征战”、“此去”、“此去”、“此去”、“此去”、“此去”、“此去”、“此去”、“此去”、“此去”、“此去”、“此去”、“此去”、“此去”、“此去”、“此去”、“此去”、“此去”、“此去”、“此去”、“此去”、“此去”、“此去”、“此去”、“此去”、“此去”、“此去”、“此去”、“此去”、“此去”、“此去”、“此去”、“此去”、“此去”、“此去”、“此去”、“此去”、“此去”、“此去”、“此去”、“此去”、“此去”、“此去”、“此去”、“此去”、“此去”、“此去”、“此去”、“此去”、“此去”、“此去”、“此去”、“此去”、“此去”、“此去”、“此去”、“此去”、“此去”、“此去”、“此去”、“此去”、“此去”、“此去”、“此去”、“此去”\n"
     ]
    }
   ],
   "source": [
    "poem_origin = generate_poem(model_origin, author=\"李白\", tags=[\"战争\"], title=[\"出塞\"])\n",
    "print(poem_origin)"
   ]
  },
  {
   "cell_type": "code",
   "execution_count": 8,
   "id": "6af24679-0813-4464-94fd-a22380277eb2",
   "metadata": {},
   "outputs": [
    {
     "name": "stdout",
     "output_type": "stream",
     "text": [
      " 一\n",
      "出塞多孤客，逢人笑不歡。\n",
      "從軍未及事，何處見征鞍。\n",
      "漢月當河上，邊風起馬門。\n",
      "長沙三月裏，不見故人看。[一]（見《全唐詩》卷八六一《送楊八尉》。\n",
      "）。[一]此首見《全唐詩》卷八六一，題作《出塞》，作《出塞》。\n",
      "）。[一]《全唐詩》卷八六一作《出塞》。\n",
      "《全唐詩續補遺》卷八七收作《出塞二首》。\n",
      "）。（見《全唐詩續補遺》卷八七。\n",
      "）。[一]《出塞》一詩，應作《出塞二首》。\n",
      "《全唐詩》卷八六一收作《出塞》，題作《出塞二首》，此《出塞二首》應即《出塞》。\n",
      "）。（《全唐詩續補遺》卷八七收此詩作《出塞二首》，題作《出塞二首》，又收作《出塞》。\n",
      "《出塞》一\n"
     ]
    }
   ],
   "source": [
    "poem_lora = generate_poem(model_lora, author=\"李白\", tags=[\"战争\"], title=[\"出塞\"])\n",
    "print(poem_lora)"
   ]
  },
  {
   "cell_type": "code",
   "execution_count": 9,
   "id": "66c01b88-59eb-426a-b077-fa830a502944",
   "metadata": {},
   "outputs": [],
   "source": [
    "from langchain.tools import tool\n",
    "\n",
    "@tool\n",
    "def add_numbers(input: str) -> str:\n",
    "    \"\"\"接收两个用逗号分隔的数字字符串，如 '3,4' 返回 '7'。支持容错与格式清洗。\"\"\"\n",
    "    try:\n",
    "        # 移除引号、换行、冒号等常见格式污染\n",
    "        input = input.strip().replace(\"'\", \"\").replace(\"\\\"\", \"\").replace(\"\\n\", \"\").replace(\"Observation:\", \"\")\n",
    "        parts = [x.strip() for x in input.split(',') if x.strip()]\n",
    "        if len(parts) != 2:\n",
    "            return \"输入格式错误：请提供两个用逗号分隔的数字，如 '3,4'\"\n",
    "        a, b = parts\n",
    "        return str(int(a) + int(b))\n",
    "    except Exception as e:\n",
    "        return f\"输入格式错误，请输入形如 '3,4' 的字符串：{str(e)}\""
   ]
  },
  {
   "cell_type": "code",
   "execution_count": 10,
   "id": "60785577-9115-49d9-834a-1ec536685e95",
   "metadata": {},
   "outputs": [
    {
     "name": "stderr",
     "output_type": "stream",
     "text": [
      "/tmp/ipykernel_1652847/3705320448.py:11: LangChainDeprecationWarning: The class `ChatOpenAI` was deprecated in LangChain 0.0.10 and will be removed in 1.0. An updated version of the class exists in the :class:`~langchain-openai package and should be used instead. To use it run `pip install -U :class:`~langchain-openai` and import as `from :class:`~langchain_openai import ChatOpenAI``.\n",
      "  llm = ChatOpenAI(\n",
      "/tmp/ipykernel_1652847/3705320448.py:26: LangChainDeprecationWarning: LangChain agents will continue to be supported, but it is recommended for new use cases to be built with LangGraph. LangGraph offers a more flexible and full-featured framework for building agents, including support for tool-calling, persistence of state, and human-in-the-loop workflows. For details, refer to the `LangGraph documentation <https://langchain-ai.github.io/langgraph/>`_ as well as guides for `Migrating from AgentExecutor <https://python.langchain.com/docs/how_to/migrate_agent/>`_ and LangGraph's `Pre-built ReAct agent <https://langchain-ai.github.io/langgraph/how-tos/create-react-agent/>`_.\n",
      "  agent = initialize_agent(\n"
     ]
    }
   ],
   "source": [
    "from langchain.chat_models import ChatOpenAI\n",
    "from langchain.agents import Tool, initialize_agent\n",
    "from langchain.agents.agent_types import AgentType\n",
    "\n",
    "OPENAI_API_KEY = \"sk-b506cb8b46e1464ba64d5de31143be45\"\n",
    "OPENAI_MODEL = \"qwen-plus\" \n",
    "\n",
    "import os\n",
    "os.environ[\"OPENAI_API_KEY\"] = OPENAI_API_KEY\n",
    "\n",
    "llm = ChatOpenAI(\n",
    "    model=OPENAI_MODEL,\n",
    "    temperature=0.9,\n",
    "    openai_api_key=OPENAI_API_KEY,\n",
    "\n",
    ")\n",
    "\n",
    "# 添加工具列表\n",
    "tools = [\n",
    "        Tool(\n",
    "        name=\"AddNumbers\",\n",
    "        func=add_numbers,\n",
    "        description=\"用于执行两个数字加法，例如输入 '3,4'\"\n",
    "    ),\n",
    "]\n",
    "agent = initialize_agent(\n",
    "    tools=tools,\n",
    "    llm=llm,\n",
    "    agent=AgentType.ZERO_SHOT_REACT_DESCRIPTION,\n",
    "    verbose=True\n",
    ")"
   ]
  },
  {
   "cell_type": "code",
   "execution_count": null,
   "id": "7990380f-7fde-4e28-b492-25106ff5237e",
   "metadata": {},
   "outputs": [
    {
     "name": "stdout",
     "output_type": "stream",
     "text": [
      "\n",
      "\n",
      "\u001b[1m> Entering new AgentExecutor chain...\u001b[0m\n"
     ]
    }
   ],
   "source": [
    "agent.run(f\"请你作为唐诗专家，基于唐代诗学理论，评估大语言模型生成的唐诗输出， \\\n",
    "    对大模型的prmpt=请基于唐代诗学理论,并且根据以下信息创作一首唐诗,作者：李白，标签：战争： 标题： 出塞 \\\n",
    "    第一个大模型输出为{poem_origin}， \\\n",
    "    第二个大模型输出为{poem_lora}, \\\n",
    "    请你打分 \")"
   ]
  },
  {
   "cell_type": "code",
   "execution_count": null,
   "id": "6c81c37d-a15b-4ff8-9b6b-c30b7e2564a9",
   "metadata": {},
   "outputs": [],
   "source": []
  }
 ],
 "metadata": {
  "kernelspec": {
   "display_name": "Python 3 (ipykernel)",
   "language": "python",
   "name": "python3"
  },
  "language_info": {
   "codemirror_mode": {
    "name": "ipython",
    "version": 3
   },
   "file_extension": ".py",
   "mimetype": "text/x-python",
   "name": "python",
   "nbconvert_exporter": "python",
   "pygments_lexer": "ipython3",
   "version": "3.10.17"
  }
 },
 "nbformat": 4,
 "nbformat_minor": 5
}
